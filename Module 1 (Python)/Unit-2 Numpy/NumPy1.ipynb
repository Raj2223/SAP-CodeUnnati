{
 "cells": [
  {
   "cell_type": "code",
   "execution_count": 1,
   "id": "d8d24e89",
   "metadata": {},
   "outputs": [],
   "source": [
    "import numpy as np"
   ]
  },
  {
   "cell_type": "code",
   "execution_count": 2,
   "id": "ed9264f1",
   "metadata": {},
   "outputs": [
    {
     "name": "stdout",
     "output_type": "stream",
     "text": [
      "[[ 1  2  3  4]\n",
      " [ 7  8  9 10]]\n"
     ]
    }
   ],
   "source": [
    "arr = np.array([[1,2,3,4],[7,8,9,10]])\n",
    "print(arr)"
   ]
  },
  {
   "cell_type": "code",
   "execution_count": 3,
   "id": "84afa06f",
   "metadata": {},
   "outputs": [
    {
     "data": {
      "text/plain": [
       "(2, 4)"
      ]
     },
     "execution_count": 3,
     "metadata": {},
     "output_type": "execute_result"
    }
   ],
   "source": [
    "arr.shape"
   ]
  },
  {
   "cell_type": "code",
   "execution_count": 4,
   "id": "f77e3eae",
   "metadata": {},
   "outputs": [
    {
     "data": {
      "text/plain": [
       "8"
      ]
     },
     "execution_count": 4,
     "metadata": {},
     "output_type": "execute_result"
    }
   ],
   "source": [
    "arr.size"
   ]
  },
  {
   "cell_type": "code",
   "execution_count": 5,
   "id": "952a7213",
   "metadata": {},
   "outputs": [
    {
     "data": {
      "text/plain": [
       "2"
      ]
     },
     "execution_count": 5,
     "metadata": {},
     "output_type": "execute_result"
    }
   ],
   "source": [
    "arr.ndim"
   ]
  },
  {
   "cell_type": "code",
   "execution_count": 6,
   "id": "a8e5c572",
   "metadata": {},
   "outputs": [
    {
     "data": {
      "text/plain": [
       "<function ndarray.max>"
      ]
     },
     "execution_count": 6,
     "metadata": {},
     "output_type": "execute_result"
    }
   ],
   "source": [
    "arr.min\n",
    "arr.max"
   ]
  },
  {
   "cell_type": "code",
   "execution_count": 7,
   "id": "843e895d",
   "metadata": {},
   "outputs": [
    {
     "data": {
      "text/plain": [
       "<function ndarray.min>"
      ]
     },
     "execution_count": 7,
     "metadata": {},
     "output_type": "execute_result"
    }
   ],
   "source": [
    "arr.min\n"
   ]
  },
  {
   "cell_type": "code",
   "execution_count": 8,
   "id": "972f3441",
   "metadata": {},
   "outputs": [
    {
     "data": {
      "text/plain": [
       "dtype('int32')"
      ]
     },
     "execution_count": 8,
     "metadata": {},
     "output_type": "execute_result"
    }
   ],
   "source": [
    "arr.dtype\n"
   ]
  },
  {
   "cell_type": "code",
   "execution_count": 9,
   "id": "6df3bb5c",
   "metadata": {},
   "outputs": [
    {
     "name": "stdout",
     "output_type": "stream",
     "text": [
      "[[20 21 22]\n",
      " [25 26 27]\n",
      " [30 31 32]] \n",
      "\n"
     ]
    }
   ],
   "source": [
    "x = np.array([[20,21,22],[25,26,27],[30,31,32]])\n",
    "print(x,\"\\n\")"
   ]
  },
  {
   "cell_type": "code",
   "execution_count": 10,
   "id": "eb892805",
   "metadata": {},
   "outputs": [
    {
     "name": "stdout",
     "output_type": "stream",
     "text": [
      "[[20. 21. 22.]\n",
      " [25. 26. 27.]\n",
      " [30. 31. 32.]] \n",
      "\n",
      "float64 \n",
      "\n",
      "8\n"
     ]
    }
   ],
   "source": [
    "x = np.array([[20,21,22],[25,26,27],[30,31,32]],dtype=np.float64)\n",
    "print(x,\"\\n\")\n",
    "print(x.dtype,\"\\n\")\n",
    "print(x.itemsize)"
   ]
  },
  {
   "cell_type": "code",
   "execution_count": 11,
   "id": "4e1b13c1",
   "metadata": {},
   "outputs": [
    {
     "data": {
      "text/plain": [
       "9"
      ]
     },
     "execution_count": 11,
     "metadata": {},
     "output_type": "execute_result"
    }
   ],
   "source": [
    "x.size"
   ]
  },
  {
   "cell_type": "code",
   "execution_count": 12,
   "id": "9840a1f0",
   "metadata": {},
   "outputs": [
    {
     "name": "stdout",
     "output_type": "stream",
     "text": [
      "[[20.+0.j 21.+0.j 22.+0.j]\n",
      " [25.+0.j 26.+0.j 27.+0.j]\n",
      " [30.+0.j 31.+0.j 32.+0.j]] \n",
      "\n",
      "complex128 \n",
      "\n",
      "16\n"
     ]
    }
   ],
   "source": [
    "y = np.array([[20,21,22],[25,26,27],[30,31,32]],dtype=np.complex128)\n",
    "print(y,\"\\n\")\n",
    "print(y.dtype,\"\\n\")\n",
    "print(y.itemsize)"
   ]
  },
  {
   "cell_type": "code",
   "execution_count": 13,
   "id": "0f3540b6",
   "metadata": {},
   "outputs": [
    {
     "name": "stdout",
     "output_type": "stream",
     "text": [
      "[[20.+0.j 21.+0.j 22.+0.j]\n",
      " [25.+0.j 26.+0.j 27.+0.j]\n",
      " [30.+0.j 31.+0.j 32.+0.j]] \n",
      "\n",
      "complex64 \n",
      "\n",
      "8\n"
     ]
    }
   ],
   "source": [
    "z = np.array([[20,21,22],[25,26,27],[30,31,32]],dtype=np.complex64)\n",
    "print(z,\"\\n\")\n",
    "print(z.dtype,\"\\n\")\n",
    "print(z.itemsize)"
   ]
  },
  {
   "cell_type": "code",
   "execution_count": 14,
   "id": "27f6896e",
   "metadata": {},
   "outputs": [
    {
     "name": "stdout",
     "output_type": "stream",
     "text": [
      "[[20 21 22]\n",
      " [25 26 27]\n",
      " [30 31 32]] \n",
      "\n",
      "int32 \n",
      "\n",
      "4\n"
     ]
    }
   ],
   "source": [
    "a = np.array([[20,21,22],[25,26,27],[30,31,32]],dtype=np.int32)\n",
    "print(a,\"\\n\")\n",
    "print(a.dtype,\"\\n\")\n",
    "print(a.itemsize)"
   ]
  },
  {
   "cell_type": "code",
   "execution_count": 15,
   "id": "cbfbe3bc",
   "metadata": {},
   "outputs": [
    {
     "data": {
      "text/plain": [
       "dtype('complex128')"
      ]
     },
     "execution_count": 15,
     "metadata": {},
     "output_type": "execute_result"
    }
   ],
   "source": [
    "y.dtype"
   ]
  },
  {
   "cell_type": "code",
   "execution_count": 16,
   "id": "dd4c1149",
   "metadata": {},
   "outputs": [
    {
     "name": "stdout",
     "output_type": "stream",
     "text": [
      "complex128\n"
     ]
    }
   ],
   "source": [
    "print(y.dtype)"
   ]
  },
  {
   "cell_type": "code",
   "execution_count": 17,
   "id": "3f5de9ef",
   "metadata": {},
   "outputs": [
    {
     "data": {
      "text/plain": [
       "<function ndarray.sum>"
      ]
     },
     "execution_count": 17,
     "metadata": {},
     "output_type": "execute_result"
    }
   ],
   "source": [
    "x.sum"
   ]
  },
  {
   "cell_type": "code",
   "execution_count": 18,
   "id": "375257c8",
   "metadata": {},
   "outputs": [
    {
     "name": "stdout",
     "output_type": "stream",
     "text": [
      "<built-in method sum of numpy.ndarray object at 0x000000C02921AF30>\n"
     ]
    }
   ],
   "source": [
    "print(x.sum)"
   ]
  },
  {
   "cell_type": "code",
   "execution_count": 19,
   "id": "70b4eec8",
   "metadata": {},
   "outputs": [
    {
     "name": "stdout",
     "output_type": "stream",
     "text": [
      "234.0\n"
     ]
    }
   ],
   "source": [
    "print(np.sum(x))"
   ]
  },
  {
   "cell_type": "code",
   "execution_count": 20,
   "id": "d6a92597",
   "metadata": {},
   "outputs": [
    {
     "name": "stdout",
     "output_type": "stream",
     "text": [
      "(234+0j)\n"
     ]
    }
   ],
   "source": [
    "print(np.sum(z))"
   ]
  },
  {
   "cell_type": "code",
   "execution_count": 21,
   "id": "37b403b8",
   "metadata": {},
   "outputs": [
    {
     "name": "stdout",
     "output_type": "stream",
     "text": [
      "234\n"
     ]
    }
   ],
   "source": [
    "print(np.sum(a))"
   ]
  },
  {
   "cell_type": "code",
   "execution_count": 22,
   "id": "f5dac4b1",
   "metadata": {},
   "outputs": [
    {
     "name": "stdout",
     "output_type": "stream",
     "text": [
      "(234+0j)\n"
     ]
    }
   ],
   "source": [
    "print(np.sum(y))"
   ]
  },
  {
   "cell_type": "code",
   "execution_count": 23,
   "id": "9bde2e83",
   "metadata": {},
   "outputs": [
    {
     "data": {
      "text/plain": [
       "dtype('complex64')"
      ]
     },
     "execution_count": 23,
     "metadata": {},
     "output_type": "execute_result"
    }
   ],
   "source": [
    "a.dtype\n",
    "x.dtype\n",
    "y.dtype\n",
    "z.dtype"
   ]
  },
  {
   "cell_type": "code",
   "execution_count": 24,
   "id": "73c19298",
   "metadata": {},
   "outputs": [
    {
     "name": "stdout",
     "output_type": "stream",
     "text": [
      "int32 float64 complex128 complex64\n"
     ]
    }
   ],
   "source": [
    "print(a.dtype,x.dtype,y.dtype,z.dtype)"
   ]
  },
  {
   "cell_type": "code",
   "execution_count": 25,
   "id": "ca6d9b5f",
   "metadata": {},
   "outputs": [
    {
     "name": "stdout",
     "output_type": "stream",
     "text": [
      "[[20. 21. 22.]\n",
      " [25. 26. 27.]\n",
      " [30. 31. 32.]] \n",
      "\n",
      "20.0 \n",
      "\n",
      "[20. 21. 22.]\n",
      "[20. 25. 30.]\n"
     ]
    }
   ],
   "source": [
    "print(x,\"\\n\")\n",
    "print(np.min(x),\"\\n\")\n",
    "print(np.min(x, axis=0))\n",
    "print(np.min(x, axis=1))"
   ]
  },
  {
   "cell_type": "code",
   "execution_count": 26,
   "id": "e70892e8",
   "metadata": {},
   "outputs": [
    {
     "name": "stdout",
     "output_type": "stream",
     "text": [
      "[[20. 21. 22.]\n",
      " [25. 26. 27.]\n",
      " [30. 31. 32.]] \n",
      "\n",
      "32.0 \n",
      "\n",
      "[30. 31. 32.]\n",
      "[22. 27. 32.]\n"
     ]
    }
   ],
   "source": [
    "print(x,\"\\n\")\n",
    "print(np.max(x),\"\\n\")\n",
    "print(np.max(x, axis=0))\n",
    "print(np.max(x, axis=1))"
   ]
  },
  {
   "cell_type": "code",
   "execution_count": 27,
   "id": "38a56fb4",
   "metadata": {},
   "outputs": [
    {
     "name": "stdout",
     "output_type": "stream",
     "text": [
      "[[20. 21. 22.]\n",
      " [25. 26. 27.]\n",
      " [30. 31. 32.]] \n",
      "\n",
      "26.0 \n",
      "\n",
      "[25. 26. 27.]\n",
      "[21. 26. 31.]\n",
      "\n",
      "\n",
      "[[20. 21. 22.]\n",
      " [25. 26. 27.]\n",
      " [30. 31. 32.]] \n",
      "\n",
      "26.0 \n",
      "\n",
      "[25. 26. 27.]\n",
      "[21. 26. 31.]\n"
     ]
    }
   ],
   "source": [
    "print(x,\"\\n\")\n",
    "print(np.mean(x),\"\\n\")\n",
    "print(np.mean(x, axis=0))\n",
    "print(np.mean(x, axis=1))\n",
    "print(\"\\n\")\n",
    "print(x,\"\\n\")\n",
    "print(np.median(x),\"\\n\")\n",
    "print(np.median(x, axis=0))\n",
    "print(np.median(x, axis=1))"
   ]
  },
  {
   "cell_type": "code",
   "execution_count": 28,
   "id": "ff317a22",
   "metadata": {},
   "outputs": [
    {
     "name": "stdout",
     "output_type": "stream",
     "text": [
      "[[20. 21. 22.]\n",
      " [25. 26. 27.]\n",
      " [30. 31. 32.]] \n",
      "\n",
      "4.163331998932265 \n",
      "\n",
      "[4.0824829 4.0824829 4.0824829]\n",
      "[0.81649658 0.81649658 0.81649658]\n"
     ]
    }
   ],
   "source": [
    "print(x,\"\\n\")\n",
    "print(np.std(x),\"\\n\")\n",
    "print(np.std(x, axis=0))\n",
    "print(np.std(x, axis=1))"
   ]
  },
  {
   "cell_type": "code",
   "execution_count": 29,
   "id": "0e00f65b",
   "metadata": {},
   "outputs": [
    {
     "name": "stdout",
     "output_type": "stream",
     "text": [
      "[[ 1  2  3  4]\n",
      " [ 7  8  9 10]] \n",
      "\n",
      "3.2015621187164243 \n",
      "\n",
      "[3. 3. 3. 3.]\n",
      "[1.11803399 1.11803399]\n"
     ]
    }
   ],
   "source": [
    "print(arr,\"\\n\")\n",
    "print(np.std(arr),\"\\n\")\n",
    "print(np.std(arr, axis=0))\n",
    "print(np.std(arr, axis=1))"
   ]
  },
  {
   "cell_type": "code",
   "execution_count": 30,
   "id": "92bcb6b2",
   "metadata": {},
   "outputs": [
    {
     "name": "stdout",
     "output_type": "stream",
     "text": [
      "[[20. 21. 22.]\n",
      " [25. 26. 27.]\n",
      " [30. 31. 32.]] \n",
      "\n",
      "17.333333333333332 \n",
      "\n",
      "[16.66666667 16.66666667 16.66666667]\n",
      "[0.66666667 0.66666667 0.66666667]\n"
     ]
    }
   ],
   "source": [
    "print(x,\"\\n\")\n",
    "print(np.var(x),\"\\n\")\n",
    "print(np.var(x, axis=0))\n",
    "print(np.var(x, axis=1))"
   ]
  },
  {
   "cell_type": "code",
   "execution_count": 31,
   "id": "24d26519",
   "metadata": {},
   "outputs": [
    {
     "name": "stdout",
     "output_type": "stream",
     "text": [
      "[[20 21 22]\n",
      " [25 26 27]\n",
      " [30 31 32]] \n",
      "\n",
      "12 \n",
      "\n",
      "[10 10 10]\n",
      "[2 2 2]\n"
     ]
    }
   ],
   "source": [
    "print(a,\"\\n\")\n",
    "print(np.ptp(a),\"\\n\")\n",
    "print(np.ptp(a, axis=0))\n",
    "print(np.ptp(a, axis=1))"
   ]
  },
  {
   "cell_type": "code",
   "execution_count": 32,
   "id": "76f428f5",
   "metadata": {},
   "outputs": [
    {
     "name": "stdout",
     "output_type": "stream",
     "text": [
      "[[ 1  2  3  4]\n",
      " [ 7  8  9 10]] \n",
      "\n",
      "9 \n",
      "\n",
      "[6 6 6 6]\n",
      "[3 3]\n"
     ]
    }
   ],
   "source": [
    "print(arr,\"\\n\")\n",
    "print(np.ptp(arr),\"\\n\")\n",
    "print(np.ptp(arr, axis=0))\n",
    "print(np.ptp(arr, axis=1))"
   ]
  },
  {
   "cell_type": "code",
   "execution_count": null,
   "id": "f63ec1a8",
   "metadata": {},
   "outputs": [],
   "source": []
  }
 ],
 "metadata": {
  "kernelspec": {
   "display_name": "Python 3 (ipykernel)",
   "language": "python",
   "name": "python3"
  },
  "language_info": {
   "codemirror_mode": {
    "name": "ipython",
    "version": 3
   },
   "file_extension": ".py",
   "mimetype": "text/x-python",
   "name": "python",
   "nbconvert_exporter": "python",
   "pygments_lexer": "ipython3",
   "version": "3.9.12"
  }
 },
 "nbformat": 4,
 "nbformat_minor": 5
}
