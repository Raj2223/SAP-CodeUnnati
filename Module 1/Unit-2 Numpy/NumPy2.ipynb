{
 "cells": [
  {
   "cell_type": "markdown",
   "id": "ac16e93d",
   "metadata": {},
   "source": [
    "# Slicing\n"
   ]
  },
  {
   "cell_type": "code",
   "execution_count": 1,
   "id": "81886b7c",
   "metadata": {},
   "outputs": [],
   "source": [
    "import numpy as np\n",
    "l=np.array([[23,25,27,29],[43,45,47,49],[62,64,66,68]])"
   ]
  },
  {
   "cell_type": "code",
   "execution_count": null,
   "id": "73f6bf95",
   "metadata": {},
   "outputs": [],
   "source": [
    "\n"
   ]
  },
  {
   "cell_type": "code",
   "execution_count": 2,
   "id": "96dc7017",
   "metadata": {},
   "outputs": [
    {
     "name": "stdout",
     "output_type": "stream",
     "text": [
      "[[23 25 27 29]\n",
      " [43 45 47 49]\n",
      " [62 64 66 68]]\n"
     ]
    }
   ],
   "source": [
    "l=np.array([[23,25,27,29],[43,45,47,49],[62,64,66,68]])\n",
    "print(l)"
   ]
  },
  {
   "cell_type": "code",
   "execution_count": 3,
   "id": "7489edae",
   "metadata": {},
   "outputs": [
    {
     "name": "stdout",
     "output_type": "stream",
     "text": [
      "[[23 25 27 29]\n",
      " [43 45 47 49]\n",
      " [62 64 66 68]] \n",
      "\n",
      "25 \n",
      "\n",
      "47 \n",
      "\n",
      "64 \n",
      "\n",
      "[25 45] \n",
      "\n",
      "[43 45] \n",
      "\n",
      "[62 64 66 68] \n",
      "\n",
      "[62 64] \n",
      "\n",
      "[29 49] \n",
      "\n",
      "68 \n",
      "\n",
      "49 \n",
      "\n"
     ]
    }
   ],
   "source": [
    "print(l,\"\\n\")\n",
    "print(l[0,1],\"\\n\")\n",
    "print(l[1,2],\"\\n\")\n",
    "print(l[2,1],\"\\n\")\n",
    "print(l[0:2,1],\"\\n\")\n",
    "print(l[1,0:2],\"\\n\")\n",
    "print(l[-1],\"\\n\")\n",
    "print(l[-1,0:2],\"\\n\")\n",
    "print(l[0:2,-1],\"\\n\")\n",
    "print(l[-1,-1],\"\\n\")\n",
    "print(l[-2,-1],\"\\n\")"
   ]
  },
  {
   "cell_type": "markdown",
   "id": "0bbb21e6",
   "metadata": {},
   "source": [
    "# Stacking"
   ]
  },
  {
   "cell_type": "code",
   "execution_count": 4,
   "id": "b5cc385e",
   "metadata": {},
   "outputs": [
    {
     "name": "stdout",
     "output_type": "stream",
     "text": [
      "[[ 0  1  2  3]\n",
      " [ 4  5  6  7]\n",
      " [ 8  9 10 11]] \n",
      "\n",
      "[[12 13 14 15]\n",
      " [16 17 18 19]\n",
      " [20 21 22 23]] \n",
      "\n"
     ]
    }
   ],
   "source": [
    "d=np.arange(12).reshape(3,4)\n",
    "print(d,\"\\n\")\n",
    "e=np.arange(12,24).reshape(3,4)\n",
    "print(e,\"\\n\")"
   ]
  },
  {
   "cell_type": "code",
   "execution_count": 5,
   "id": "43f295cb",
   "metadata": {},
   "outputs": [
    {
     "name": "stdout",
     "output_type": "stream",
     "text": [
      "[[ 0  1  2  3]\n",
      " [ 4  5  6  7]\n",
      " [ 8  9 10 11]] \n",
      "\n",
      "[[12 13 14 15]\n",
      " [16 17 18 19]\n",
      " [20 21 22 23]] \n",
      "\n",
      "[[ 0  1  2  3 12 13 14 15]\n",
      " [ 4  5  6  7 16 17 18 19]\n",
      " [ 8  9 10 11 20 21 22 23]] \n",
      "\n",
      "[[12 13 14 15  0  1  2  3]\n",
      " [16 17 18 19  4  5  6  7]\n",
      " [20 21 22 23  8  9 10 11]] \n",
      "\n"
     ]
    }
   ],
   "source": [
    "print(d,\"\\n\")\n",
    "print(e,\"\\n\")\n",
    "print(np.hstack((d,e)),\"\\n\")\n",
    "print(np.hstack((e,d)),\"\\n\")"
   ]
  },
  {
   "cell_type": "code",
   "execution_count": 6,
   "id": "0a69de23",
   "metadata": {},
   "outputs": [
    {
     "name": "stdout",
     "output_type": "stream",
     "text": [
      "[[ 0  1  2  3]\n",
      " [ 4  5  6  7]\n",
      " [ 8  9 10 11]] \n",
      "\n",
      "[[12 13 14 15]\n",
      " [16 17 18 19]\n",
      " [20 21 22 23]] \n",
      "\n",
      "[[ 0  1  2  3]\n",
      " [ 4  5  6  7]\n",
      " [ 8  9 10 11]\n",
      " [12 13 14 15]\n",
      " [16 17 18 19]\n",
      " [20 21 22 23]] \n",
      "\n",
      "[[12 13 14 15]\n",
      " [16 17 18 19]\n",
      " [20 21 22 23]\n",
      " [ 0  1  2  3]\n",
      " [ 4  5  6  7]\n",
      " [ 8  9 10 11]] \n",
      "\n"
     ]
    }
   ],
   "source": [
    "print(d,\"\\n\")\n",
    "print(e,\"\\n\")\n",
    "print(np.vstack((d,e)),\"\\n\")\n",
    "print(np.vstack((e,d)),\"\\n\")"
   ]
  },
  {
   "cell_type": "code",
   "execution_count": 7,
   "id": "00a1756f",
   "metadata": {},
   "outputs": [],
   "source": [
    "from numpy import random"
   ]
  },
  {
   "cell_type": "code",
   "execution_count": 8,
   "id": "186ad510",
   "metadata": {},
   "outputs": [
    {
     "name": "stdout",
     "output_type": "stream",
     "text": [
      "79\n"
     ]
    }
   ],
   "source": [
    "x=random.randint(100)\n",
    "print(x)"
   ]
  },
  {
   "cell_type": "code",
   "execution_count": 9,
   "id": "66590551",
   "metadata": {},
   "outputs": [
    {
     "name": "stdout",
     "output_type": "stream",
     "text": [
      "0.33323327328953645\n"
     ]
    }
   ],
   "source": [
    "x=random.rand()\n",
    "print(x)"
   ]
  },
  {
   "cell_type": "code",
   "execution_count": 10,
   "id": "b48d2f93",
   "metadata": {},
   "outputs": [
    {
     "name": "stdout",
     "output_type": "stream",
     "text": [
      "38\n"
     ]
    }
   ],
   "source": [
    "x=random.randint(100)\n",
    "print(x)"
   ]
  },
  {
   "cell_type": "code",
   "execution_count": null,
   "id": "24fa3dc4",
   "metadata": {},
   "outputs": [],
   "source": []
  }
 ],
 "metadata": {
  "kernelspec": {
   "display_name": "Python 3 (ipykernel)",
   "language": "python",
   "name": "python3"
  },
  "language_info": {
   "codemirror_mode": {
    "name": "ipython",
    "version": 3
   },
   "file_extension": ".py",
   "mimetype": "text/x-python",
   "name": "python",
   "nbconvert_exporter": "python",
   "pygments_lexer": "ipython3",
   "version": "3.9.12"
  }
 },
 "nbformat": 4,
 "nbformat_minor": 5
}
