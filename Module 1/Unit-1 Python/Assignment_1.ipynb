{
 "cells": [
  {
   "cell_type": "markdown",
   "id": "926dc5bc",
   "metadata": {},
   "source": [
    "Q-1] WAP to convert the temperature from degree faranite to degree Celcius"
   ]
  },
  {
   "cell_type": "code",
   "execution_count": 1,
   "id": "70dd7b99",
   "metadata": {},
   "outputs": [
    {
     "name": "stdout",
     "output_type": "stream",
     "text": [
      "Enter the temprature in Faranite: 108\n",
      "\n",
      "Converting the faranite to Degree:\n",
      "\n",
      "42.22222222222222\n"
     ]
    }
   ],
   "source": [
    "f = int(input(\"Enter the temprature in Faranite: \"))\n",
    "\n",
    "print(\"\\nConverting the faranite to Degree:\\n\")\n",
    "\n",
    "c = ((f-32)*5)/9;\n",
    "print(c)"
   ]
  },
  {
   "cell_type": "markdown",
   "id": "a65b504e",
   "metadata": {},
   "source": [
    "Q-2] WAP Exchange the value of two variables using a temp variable"
   ]
  },
  {
   "cell_type": "code",
   "execution_count": 2,
   "id": "2b2601a2",
   "metadata": {},
   "outputs": [
    {
     "name": "stdout",
     "output_type": "stream",
     "text": [
      "Enter the two numbers seperated by space5 9\n",
      "You Entered:  5   9\n",
      "9 5\n"
     ]
    }
   ],
   "source": [
    "n,m = map(int, input(\"Enter the two numbers seperated by space\").split())\n",
    "print(\"You Entered: \", n, \" \", m)\n",
    "temp = n\n",
    "n = m\n",
    "m = temp\n",
    "\n",
    "\"\"\" or \n",
    "\n",
    "n,m = m,n  ---->this syntax is used to change the values of the variable without using third variable\n",
    "\n",
    "\"\"\"\n",
    "\n",
    "print(n, m)"
   ]
  },
  {
   "cell_type": "markdown",
   "id": "652b51d0",
   "metadata": {},
   "source": [
    "Q-3] WAP to find out the distance between two points"
   ]
  },
  {
   "cell_type": "code",
   "execution_count": 3,
   "id": "65b5865c",
   "metadata": {},
   "outputs": [
    {
     "name": "stdout",
     "output_type": "stream",
     "text": [
      "Enter the x1,x2,y1,x2 by space seperated: 8 6 3 7 \n",
      "The distunce between the two poits:  4.47213595499958\n"
     ]
    }
   ],
   "source": [
    "# Formula of Distance between two points: d = √[( y2 –  y1)² + ( x1 –  x2)²]\n",
    "import math\n",
    "x1,x2,y1,y2 = map(int, input(\"Enter the x1,x2,y1,x2 by space seperated: \").split())\n",
    "d = (( y2-y1)**2) + (( x1-x2)**2)\n",
    "c = math.sqrt(d)\n",
    "print(\"The distunce between the two poits: \", c)\n"
   ]
  },
  {
   "cell_type": "raw",
   "id": "5cdd5e77",
   "metadata": {},
   "source": [
    "Q-4] Perform a case study and perform the following operations in tules\n",
    "\n",
    "\ta> maximum value\n",
    "\tb> minimum value\n",
    "\tc> Sum of two tuples\n",
    "\td> Duplicate tuples\n",
    "\te> slicing operations\n",
    "\tf> obtaining the list from the tuple\n",
    "\tg> Comparing two tuples\n",
    "\th> Printing two tuples of different datatypes\n"
   ]
  },
  {
   "cell_type": "code",
   "execution_count": 4,
   "id": "662d6a80",
   "metadata": {},
   "outputs": [
    {
     "name": "stdout",
     "output_type": "stream",
     "text": [
      "8\n"
     ]
    }
   ],
   "source": [
    "#a> Maximum of value\n",
    "\n",
    "t = (1,5,7,8)\n",
    "maxval = max(t);\n",
    "print(maxval)\n",
    "# for i in t:\n",
    "#     if(i>maxval):\n",
    "#         maxval = i;\n",
    "# print(i)"
   ]
  },
  {
   "cell_type": "code",
   "execution_count": 5,
   "id": "7f380cf7",
   "metadata": {},
   "outputs": [
    {
     "name": "stdout",
     "output_type": "stream",
     "text": [
      "1\n"
     ]
    }
   ],
   "source": [
    "#b> Minimum value:\n",
    "print(min(t))\n",
    "\n",
    "# or:--->\n",
    "\n",
    "\n",
    "# minval = 0;\n",
    "# for i in range(0, len(t)-1):\n",
    "#     for j in range(i+1, len(t)):\n",
    "#         if(t[i]>t[j]):\n",
    "#             temp = t[i]\n",
    "#             t[i] = t[j]\n",
    "#             t[j] = temp\n",
    "# print(t[0])"
   ]
  },
  {
   "cell_type": "code",
   "execution_count": 6,
   "id": "86f7e7b8",
   "metadata": {},
   "outputs": [
    {
     "name": "stdout",
     "output_type": "stream",
     "text": [
      "43\n"
     ]
    }
   ],
   "source": [
    "#c> sum of two tuples:\n",
    "t1 = (5, 4, 9)\n",
    "t2 = (10, 8, 7)\n",
    "\n",
    "s1 = sum(t1);\n",
    "s2 = sum(t2);\n",
    "\n",
    "print(s1+s2);\n",
    "    \n"
   ]
  },
  {
   "cell_type": "code",
   "execution_count": 14,
   "id": "de0b69f2",
   "metadata": {},
   "outputs": [
    {
     "name": "stdout",
     "output_type": "stream",
     "text": [
      "[1, 2]\n"
     ]
    }
   ],
   "source": [
    "#d> Duplicate tuples:\n",
    "\n",
    "t1 = (1,2,6,5,8,7,9,2,1,2,4)\n",
    "a = []\n",
    "for i in t1:\n",
    "    n = t1.count(i)\n",
    "    if n>1:\n",
    "        if a.count(i) == 0:\n",
    "            a.append(i)\n",
    "print(a)"
   ]
  },
  {
   "cell_type": "code",
   "execution_count": 15,
   "id": "af023d12",
   "metadata": {},
   "outputs": [
    {
     "name": "stdout",
     "output_type": "stream",
     "text": [
      "(2, 6, 5, 8)\n",
      "(1, 2, 6, 5, 8)\n",
      "(7, 9, 2, 1, 2, 4)\n",
      "(1, 2, 6, 5, 8, 7, 9, 2, 1, 2, 4)\n"
     ]
    }
   ],
   "source": [
    "#e> slicing operations:\n",
    "print(t1[1:5])\n",
    "print(t1[0:5])\n",
    "print(t1[5:])\n",
    "print(t1[:])"
   ]
  },
  {
   "cell_type": "code",
   "execution_count": 20,
   "id": "4bdf8e31",
   "metadata": {},
   "outputs": [
    {
     "name": "stdout",
     "output_type": "stream",
     "text": [
      "List fount in Tuple =  [1, 5, 6, 7]\n"
     ]
    }
   ],
   "source": [
    "#f> obtaining the list from the tuple:\n",
    "l = [1,5,6,7]\n",
    "t = (1,5,6,7,l, 8,9,8)\n",
    "if(l in t):\n",
    "    print(\"List fount in Tuple = \",l)\n",
    "else:\n",
    "    print(False)\n"
   ]
  },
  {
   "cell_type": "code",
   "execution_count": 21,
   "id": "0bf994e7",
   "metadata": {},
   "outputs": [
    {
     "name": "stdout",
     "output_type": "stream",
     "text": [
      "False\n"
     ]
    }
   ],
   "source": [
    "#g> Comparing two tuples:\n",
    "t1 = (1,5,6,9,8)\n",
    "t2 = (1,6,8,9,3)\n",
    "if(t1 == t2):\n",
    "    print(True)\n",
    "else:\n",
    "    print(False)"
   ]
  },
  {
   "cell_type": "code",
   "execution_count": 22,
   "id": "57e4ba54",
   "metadata": {},
   "outputs": [
    {
     "name": "stdout",
     "output_type": "stream",
     "text": [
      "Tuple_1:  ('Vijay', 'Ram', 'Sham')\n",
      "Tuple_2: (5, 8, 3)\n"
     ]
    }
   ],
   "source": [
    "#h> Printing two tuples of different datatypes:\n",
    "\n",
    "t1 = (\"Vijay\", \"Ram\", \"Sham\")\n",
    "t2 = (5, 8, 3)\n",
    "print(\"Tuple_1: \",t1)\n",
    "print(\"Tuple_2:\", t2)"
   ]
  },
  {
   "cell_type": "markdown",
   "id": "f25fc6f4",
   "metadata": {},
   "source": [
    "Q-5] write a program to find the square root of two numbers"
   ]
  },
  {
   "cell_type": "code",
   "execution_count": 24,
   "id": "660f630f",
   "metadata": {},
   "outputs": [
    {
     "name": "stdout",
     "output_type": "stream",
     "text": [
      "49 81\n",
      "7\n",
      "9\n"
     ]
    }
   ],
   "source": [
    "n1,n2 = map(int, input().split())\n",
    "\n",
    "print(int(math.sqrt(n1)))\n",
    "print(int(math.sqrt(n2)))"
   ]
  },
  {
   "cell_type": "markdown",
   "id": "e0c33e24",
   "metadata": {},
   "source": [
    "Q-6] WAP factorial of a given number:"
   ]
  },
  {
   "cell_type": "code",
   "execution_count": 25,
   "id": "673b084c",
   "metadata": {},
   "outputs": [
    {
     "name": "stdout",
     "output_type": "stream",
     "text": [
      "5\n",
      "120\n"
     ]
    }
   ],
   "source": [
    "def fact(n):\n",
    "    if(n==0):\n",
    "        return 1\n",
    "    return (n*fact(n-1))\n",
    "\n",
    "n = int(input())\n",
    "print(fact(n))"
   ]
  },
  {
   "cell_type": "raw",
   "id": "29626d0c",
   "metadata": {},
   "source": [
    "Q-7] WAP sum of digit of given number ex: 111 = 3;"
   ]
  },
  {
   "cell_type": "code",
   "execution_count": 28,
   "id": "61f334eb",
   "metadata": {},
   "outputs": [
    {
     "name": "stdout",
     "output_type": "stream",
     "text": [
      "153\n",
      "9\n"
     ]
    }
   ],
   "source": [
    "n =int(input())\n",
    "\n",
    "s = 0\n",
    "while(n!=0):\n",
    "    p = n%10\n",
    "    s+=p\n",
    "    n = n//10\n",
    "print(s)"
   ]
  },
  {
   "cell_type": "raw",
   "id": "80a7a775",
   "metadata": {},
   "source": [
    "Q-8] WAP reverses the given number:"
   ]
  },
  {
   "cell_type": "code",
   "execution_count": 31,
   "id": "21ff766c",
   "metadata": {},
   "outputs": [
    {
     "name": "stdout",
     "output_type": "stream",
     "text": [
      "159\n",
      "951\n"
     ]
    }
   ],
   "source": [
    "# n = int(input())\n",
    "# x = ''\n",
    "# while(n!=0):\n",
    "#     p = n%10\n",
    "#     x += str(p)\n",
    "#     n = n//10\n",
    "\n",
    "\n",
    "# or:\n",
    "n = input()\n",
    "x = n[::-1]\n",
    "\n",
    "print(x)"
   ]
  },
  {
   "cell_type": "raw",
   "id": "425e5f6d",
   "metadata": {},
   "source": [
    "Q-9] WAP to check whether the given number is palindrome or not:"
   ]
  },
  {
   "cell_type": "code",
   "execution_count": 32,
   "id": "11d9575a",
   "metadata": {},
   "outputs": [
    {
     "name": "stdout",
     "output_type": "stream",
     "text": [
      "151\n",
      "True\n"
     ]
    }
   ],
   "source": [
    "n = input()\n",
    "x = n[::-1]\n",
    "\n",
    "if(x==n):\n",
    "    print(True)\n",
    "else:\n",
    "    print(False)"
   ]
  },
  {
   "cell_type": "raw",
   "id": "bd075064",
   "metadata": {},
   "source": [
    "Q->10] WAP to find the fibonacci series"
   ]
  },
  {
   "cell_type": "code",
   "execution_count": 46,
   "id": "ee083237",
   "metadata": {},
   "outputs": [
    {
     "name": "stdout",
     "output_type": "stream",
     "text": [
      "9\n",
      "Fibonacci sequence:\n",
      "0 1 1 2 3 5 8 13 21 "
     ]
    }
   ],
   "source": [
    "def fibo(n):\n",
    "   if n <= 1:\n",
    "       return n\n",
    "   else:\n",
    "       return(fibo(n-1) + fibo(n-2))\n",
    "\n",
    "n = int(input())\n",
    "if n <= 0:\n",
    "   print(\"Plese enter a positive integer\")\n",
    "else:\n",
    "   print(\"Fibonacci sequence:\")\n",
    "   for i in range(n):\n",
    "       print(fibo(i), end = \" \")"
   ]
  },
  {
   "cell_type": "raw",
   "id": "37c149e8",
   "metadata": {},
   "source": [
    "Q->11] WAP to print Prime numbers in a range"
   ]
  },
  {
   "cell_type": "code",
   "execution_count": 34,
   "id": "2d738a05",
   "metadata": {},
   "outputs": [
    {
     "name": "stdout",
     "output_type": "stream",
     "text": [
      "1 2 3 4 5 6 7 8 9 10 "
     ]
    }
   ],
   "source": [
    "for i in range(1, 11):\n",
    "    print(i, end=\" \")"
   ]
  },
  {
   "cell_type": "raw",
   "id": "e16541d5",
   "metadata": {},
   "source": [
    "Q->12] WAP to find the gretest of three numbers"
   ]
  },
  {
   "cell_type": "code",
   "execution_count": 35,
   "id": "fc8e873e",
   "metadata": {},
   "outputs": [
    {
     "name": "stdout",
     "output_type": "stream",
     "text": [
      "Enter three numbers with seperated by space: 9 12 5\n",
      "12\n"
     ]
    }
   ],
   "source": [
    "a,b,c = map(int, input(\"Enter three numbers with seperated by space: \").split())\n",
    "\n",
    "if(a>b):\n",
    "    if(a>c):\n",
    "        print(a)\n",
    "    else:\n",
    "        print(c)\n",
    "elif(b>a):\n",
    "    if(b>c):\n",
    "        print(b)\n",
    "    else:\n",
    "        print(c)"
   ]
  },
  {
   "cell_type": "code",
   "execution_count": 53,
   "id": "f7420420",
   "metadata": {},
   "outputs": [
    {
     "name": "stdout",
     "output_type": "stream",
     "text": [
      "10\n",
      "0 1 1 2 3 5 8 13 21 34 "
     ]
    }
   ],
   "source": [
    "# fibonacci series without recursion:\n",
    "def fibo(n):\n",
    "    a = 0\n",
    "    b = 1\n",
    "    if(n==0 or n==1):\n",
    "        print(n)\n",
    "        \n",
    "    else:\n",
    "        print(a,b, end =\" \")\n",
    "        for i in range(2, n):\n",
    "            c = a+b\n",
    "            print(c, end = \" \")\n",
    "            a = b\n",
    "            b =c\n",
    "            \n",
    "\n",
    "n = int(input())\n",
    "fibo(n)\n",
    "    "
   ]
  },
  {
   "cell_type": "code",
   "execution_count": 62,
   "id": "ca76646d",
   "metadata": {},
   "outputs": [
    {
     "name": "stdout",
     "output_type": "stream",
     "text": [
      "10\n",
      "0 1 1 2 3 5 8 13 21 34 "
     ]
    }
   ],
   "source": [
    "# without using third variable:\n",
    "# fibonacci series without recursion:\n",
    "def fibo(n):\n",
    "    a = 0\n",
    "    b = 1\n",
    "    if(n==0 or n==1):\n",
    "        print(n)\n",
    "        \n",
    "    else:\n",
    "        print(a,b, end =\" \")\n",
    "        for i in range(2, n):\n",
    "            b = a+b\n",
    "            print(b, end = \" \")\n",
    "            a = b-a\n",
    "\n",
    "n = int(input())\n",
    "fibo(n)"
   ]
  },
  {
   "cell_type": "code",
   "execution_count": 1,
   "id": "6dc66cd4",
   "metadata": {},
   "outputs": [
    {
     "name": "stdout",
     "output_type": "stream",
     "text": [
      "9\n",
      "0 1 1 2 3 5 8 13 21 "
     ]
    }
   ],
   "source": [
    "# without using third variable:\n",
    "# fibonacci series without recursion:\n",
    "def fibo(n):\n",
    "    a = 0\n",
    "    b = 1\n",
    "    if(n==0 or n==1):\n",
    "        print(n)\n",
    "        \n",
    "    else:\n",
    "        for i in range(n):\n",
    "            print(a, end = \" \")\n",
    "            b = a+b\n",
    "            a = b-a\n",
    "\n",
    "n = int(input())\n",
    "fibo(n)"
   ]
  },
  {
   "cell_type": "code",
   "execution_count": null,
   "id": "96d03843",
   "metadata": {},
   "outputs": [],
   "source": []
  }
 ],
 "metadata": {
  "kernelspec": {
   "display_name": "Python 3 (ipykernel)",
   "language": "python",
   "name": "python3"
  },
  "language_info": {
   "codemirror_mode": {
    "name": "ipython",
    "version": 3
   },
   "file_extension": ".py",
   "mimetype": "text/x-python",
   "name": "python",
   "nbconvert_exporter": "python",
   "pygments_lexer": "ipython3",
   "version": "3.9.12"
  }
 },
 "nbformat": 4,
 "nbformat_minor": 5
}
