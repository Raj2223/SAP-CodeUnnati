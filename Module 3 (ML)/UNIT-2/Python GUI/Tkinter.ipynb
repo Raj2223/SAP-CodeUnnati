{
 "cells": [
  {
   "cell_type": "markdown",
   "id": "681b0a23",
   "metadata": {},
   "source": [
    "# importing libs:"
   ]
  },
  {
   "cell_type": "code",
   "execution_count": 1,
   "id": "4c554d4c",
   "metadata": {},
   "outputs": [],
   "source": [
    "from tkinter import *\n",
    "import ttk\n",
    "from tkinter.ttk import *"
   ]
  },
  {
   "cell_type": "markdown",
   "id": "d60d738a",
   "metadata": {},
   "source": [
    "# Adding window:"
   ]
  },
  {
   "cell_type": "code",
   "execution_count": 11,
   "id": "ab4c6d8c",
   "metadata": {},
   "outputs": [],
   "source": [
    "window = Tk()\n",
    "window.title(\"Welcome to pyton Tkinter\") # window title displaying on left side of window\n",
    "window.configure(bg = \"green\") # it is helps to apply the background color to the window of Tkinter\n",
    "window.geometry('600x300')  # it is used to set the dimentions of the window \n",
    "\n",
    "# ading label on window:\n",
    "\n",
    "label = Label(window, text = \"Hellow, \", font = ('Helvetica 15')) # this text will be visible on the window\n",
    "label.grid(column = 0, row = 0) # it is help to set the position on the window\n",
    "\n",
    "# adding the entery on the window -- (To get input from the user)\n",
    "\n",
    "txt = Entry(window, width = 50) # it is helps to take an input \n",
    "\n",
    "txt.grid(column = 50, row = 1) # it is help to set the position on the window\n",
    "\n",
    "def clicked():\n",
    "    name = \"Wlcome \" + txt.get()\n",
    "    label.configure(text = name)\n",
    "    \n",
    "# creating the button on the window:\n",
    "\n",
    "btn = Button(window, text = 'Click me', command = clicked)\n",
    "btn.grid(column = 100, row = 50) # it is help to set the position on the window\n",
    "\n",
    "\n",
    "def clicked():\n",
    "    label.configure(text = \"After, button was clicked !!, we have seen the change\")\n",
    "window.mainloop()"
   ]
  },
  {
   "cell_type": "code",
   "execution_count": null,
   "id": "9955bf27",
   "metadata": {},
   "outputs": [],
   "source": []
  }
 ],
 "metadata": {
  "kernelspec": {
   "display_name": "Python 3 (ipykernel)",
   "language": "python",
   "name": "python3"
  },
  "language_info": {
   "codemirror_mode": {
    "name": "ipython",
    "version": 3
   },
   "file_extension": ".py",
   "mimetype": "text/x-python",
   "name": "python",
   "nbconvert_exporter": "python",
   "pygments_lexer": "ipython3",
   "version": "3.11.0"
  }
 },
 "nbformat": 4,
 "nbformat_minor": 5
}
