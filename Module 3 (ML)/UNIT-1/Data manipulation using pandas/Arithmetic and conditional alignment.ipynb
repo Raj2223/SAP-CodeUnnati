{
 "cells": [
  {
   "cell_type": "code",
   "execution_count": 1,
   "id": "baf1301c",
   "metadata": {},
   "outputs": [],
   "source": [
    "import pandas as pd\n",
    "import numpy as np"
   ]
  },
  {
   "cell_type": "code",
   "execution_count": 3,
   "id": "98c4a435",
   "metadata": {},
   "outputs": [
    {
     "name": "stdout",
     "output_type": "stream",
     "text": [
      "    Weight    Name  Age\n",
      "R1      45     Sam   14\n",
      "R2      88    Alex   25\n",
      "R3      56  Andrea   55\n",
      "R4      15   Robin    8\n",
      "R5      71     Kia   25\n"
     ]
    }
   ],
   "source": [
    "df = pd.DataFrame({'Weight': [45,88,56,15,71], 'Name':[\"Sam\", \"Alex\", \"Andrea\", \"Robin\", \"Kia\"], \n",
    "                  \"Age\":[14,25,55,8,25]})\n",
    "\n",
    "# create the index \n",
    "indeX = [\"R1\", \"R2\", \"R3\", \"R4\", \"R5\"]\n",
    "\n",
    "# set the index\n",
    "df.index=indeX\n",
    "# print the dataframe:\n",
    "print(df)"
   ]
  },
  {
   "cell_type": "code",
   "execution_count": 4,
   "id": "8962b0fa",
   "metadata": {},
   "outputs": [],
   "source": [
    "# return the value:\n",
    "val = df.loc[\"R2\", \"Name\"]"
   ]
  },
  {
   "cell_type": "code",
   "execution_count": 5,
   "id": "fd5772b9",
   "metadata": {},
   "outputs": [
    {
     "data": {
      "text/plain": [
       "'Alex'"
      ]
     },
     "execution_count": 5,
     "metadata": {},
     "output_type": "execute_result"
    }
   ],
   "source": [
    "val"
   ]
  },
  {
   "cell_type": "code",
   "execution_count": 6,
   "id": "173b2d4a",
   "metadata": {},
   "outputs": [
    {
     "name": "stdout",
     "output_type": "stream",
     "text": [
      "     A   B   C   D\n",
      "R1  12   7   2  14\n",
      "R2   4   2  16   3\n",
      "R3   5  54  11   8\n",
      "R4   2   3   3   2\n",
      "R5   1   4   8   6\n"
     ]
    }
   ],
   "source": [
    "# creating the another dataframe \n",
    "df2 = pd.DataFrame({\"A\":[12,4,5,2,1], \"B\":[7,2,54,3,4], \"C\":[2,16,11,3,8], \"D\":[14,3,8,2,6]})\n",
    "\n",
    "# create the index:\n",
    "indeX = [\"R1\", \"R2\", \"R3\", \"R4\", \"R5\"]\n",
    "\n",
    "# set the index of the dataframe:\n",
    "df2.index = indeX\n",
    "\n",
    "# printing the dataframe:\n",
    "print(df2)"
   ]
  },
  {
   "cell_type": "code",
   "execution_count": 8,
   "id": "6e62cbda",
   "metadata": {},
   "outputs": [],
   "source": [
    "val2 = df2.loc[:, [\"A\", \"D\"]]"
   ]
  },
  {
   "cell_type": "code",
   "execution_count": 9,
   "id": "b913084b",
   "metadata": {},
   "outputs": [
    {
     "data": {
      "text/html": [
       "<div>\n",
       "<style scoped>\n",
       "    .dataframe tbody tr th:only-of-type {\n",
       "        vertical-align: middle;\n",
       "    }\n",
       "\n",
       "    .dataframe tbody tr th {\n",
       "        vertical-align: top;\n",
       "    }\n",
       "\n",
       "    .dataframe thead th {\n",
       "        text-align: right;\n",
       "    }\n",
       "</style>\n",
       "<table border=\"1\" class=\"dataframe\">\n",
       "  <thead>\n",
       "    <tr style=\"text-align: right;\">\n",
       "      <th></th>\n",
       "      <th>A</th>\n",
       "      <th>D</th>\n",
       "    </tr>\n",
       "  </thead>\n",
       "  <tbody>\n",
       "    <tr>\n",
       "      <th>R1</th>\n",
       "      <td>12</td>\n",
       "      <td>14</td>\n",
       "    </tr>\n",
       "    <tr>\n",
       "      <th>R2</th>\n",
       "      <td>4</td>\n",
       "      <td>3</td>\n",
       "    </tr>\n",
       "    <tr>\n",
       "      <th>R3</th>\n",
       "      <td>5</td>\n",
       "      <td>8</td>\n",
       "    </tr>\n",
       "    <tr>\n",
       "      <th>R4</th>\n",
       "      <td>2</td>\n",
       "      <td>2</td>\n",
       "    </tr>\n",
       "    <tr>\n",
       "      <th>R5</th>\n",
       "      <td>1</td>\n",
       "      <td>6</td>\n",
       "    </tr>\n",
       "  </tbody>\n",
       "</table>\n",
       "</div>"
      ],
      "text/plain": [
       "     A   D\n",
       "R1  12  14\n",
       "R2   4   3\n",
       "R3   5   8\n",
       "R4   2   2\n",
       "R5   1   6"
      ]
     },
     "execution_count": 9,
     "metadata": {},
     "output_type": "execute_result"
    }
   ],
   "source": [
    "val2"
   ]
  },
  {
   "cell_type": "code",
   "execution_count": null,
   "id": "d08e6621",
   "metadata": {},
   "outputs": [],
   "source": []
  }
 ],
 "metadata": {
  "kernelspec": {
   "display_name": "Python 3 (ipykernel)",
   "language": "python",
   "name": "python3"
  },
  "language_info": {
   "codemirror_mode": {
    "name": "ipython",
    "version": 3
   },
   "file_extension": ".py",
   "mimetype": "text/x-python",
   "name": "python",
   "nbconvert_exporter": "python",
   "pygments_lexer": "ipython3",
   "version": "3.11.0"
  }
 },
 "nbformat": 4,
 "nbformat_minor": 5
}
