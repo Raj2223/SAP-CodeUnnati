{
 "cells": [
  {
   "cell_type": "markdown",
   "id": "7d30593e",
   "metadata": {},
   "source": [
    "# indexing and selection operator:"
   ]
  },
  {
   "cell_type": "code",
   "execution_count": 1,
   "id": "ab8d1865",
   "metadata": {},
   "outputs": [],
   "source": [
    "import pandas as pd\n",
    "import numpy as np"
   ]
  },
  {
   "cell_type": "code",
   "execution_count": 2,
   "id": "cb2ea665",
   "metadata": {},
   "outputs": [
    {
     "name": "stdout",
     "output_type": "stream",
     "text": [
      "Name\n",
      "Avery Bradley    25\n",
      "Jae Crowder      25\n",
      "John Holland     27\n",
      "R.J. Hunter      22\n",
      "Jonas Jerebko    29\n",
      "                 ..\n",
      "Trey Lyles       20\n",
      "Shelvin Mack     26\n",
      "Raul Neto        24\n",
      "Tibor Pleiss     26\n",
      "Jeff Withey      26\n",
      "Name: Age, Length: 457, dtype: int64\n"
     ]
    }
   ],
   "source": [
    "# making the dataframe frime csv file\n",
    "data = pd.read_csv(\"nba.csv\", index_col = \"Name\")\n",
    "# retriving the data from by the indexig operator\n",
    "first = data[\"Age\"]\n",
    "# retrive the data by multiple indexing:\n",
    "second = data[[\"Age\", \"College\", \"Salary\"]]\n",
    "# printing the data from the first\n",
    "print(first)"
   ]
  },
  {
   "cell_type": "code",
   "execution_count": 3,
   "id": "9669cf9e",
   "metadata": {},
   "outputs": [
    {
     "name": "stdout",
     "output_type": "stream",
     "text": [
      "               Age            College     Salary\n",
      "Name                                            \n",
      "Avery Bradley   25              Texas  7730337.0\n",
      "Jae Crowder     25          Marquette  6796117.0\n",
      "John Holland    27  Boston University        NaN\n",
      "R.J. Hunter     22      Georgia State  1148640.0\n",
      "Jonas Jerebko   29                NaN  5000000.0\n",
      "...            ...                ...        ...\n",
      "Trey Lyles      20           Kentucky  2239800.0\n",
      "Shelvin Mack    26             Butler  2433333.0\n",
      "Raul Neto       24                NaN   900000.0\n",
      "Tibor Pleiss    26                NaN  2900000.0\n",
      "Jeff Withey     26             Kansas   947276.0\n",
      "\n",
      "[457 rows x 3 columns]\n"
     ]
    }
   ],
   "source": [
    "print(second)"
   ]
  },
  {
   "cell_type": "code",
   "execution_count": 4,
   "id": "f5a3d085",
   "metadata": {},
   "outputs": [
    {
     "name": "stdout",
     "output_type": "stream",
     "text": [
      "Team        Boston Celtics\n",
      "Number                   0\n",
      "Position                PG\n",
      "Age                     25\n",
      "Height               2-Jun\n",
      "Weight                 180\n",
      "College              Texas\n",
      "Salary           7730337.0\n",
      "Name: Avery Bradley, dtype: object \n",
      "\n",
      " Team        Boston Celtics\n",
      "Number                  28\n",
      "Position                SG\n",
      "Age                     22\n",
      "Height               5-Jun\n",
      "Weight                 185\n",
      "College      Georgia State\n",
      "Salary           1148640.0\n",
      "Name: R.J. Hunter, dtype: object\n"
     ]
    }
   ],
   "source": [
    "# retive the rows by loc method:\n",
    "single_first = data.loc[\"Avery Bradley\"]\n",
    "single_second = data.loc[\"R.J. Hunter\"]\n",
    "print(single_first, \"\\n\\n\", single_second)"
   ]
  },
  {
   "cell_type": "code",
   "execution_count": 5,
   "id": "1a817170",
   "metadata": {},
   "outputs": [
    {
     "name": "stdout",
     "output_type": "stream",
     "text": [
      "                         Team  Number Position  Age Height  Weight  \\\n",
      "Name                                                                 \n",
      "Avery Bradley  Boston Celtics       0       PG   25  2-Jun     180   \n",
      "R.J. Hunter    Boston Celtics      28       SG   22  5-Jun     185   \n",
      "\n",
      "                     College     Salary  \n",
      "Name                                     \n",
      "Avery Bradley          Texas  7730337.0  \n",
      "R.J. Hunter    Georgia State  1148640.0  \n"
     ]
    }
   ],
   "source": [
    "# retriving rows by loc method:\n",
    "mult_loc = data.loc[[\"Avery Bradley\", \"R.J. Hunter\"]]\n",
    "print(mult_loc)"
   ]
  },
  {
   "cell_type": "code",
   "execution_count": 6,
   "id": "74183185",
   "metadata": {},
   "outputs": [
    {
     "data": {
      "text/html": [
       "<div>\n",
       "<style scoped>\n",
       "    .dataframe tbody tr th:only-of-type {\n",
       "        vertical-align: middle;\n",
       "    }\n",
       "\n",
       "    .dataframe tbody tr th {\n",
       "        vertical-align: top;\n",
       "    }\n",
       "\n",
       "    .dataframe thead th {\n",
       "        text-align: right;\n",
       "    }\n",
       "</style>\n",
       "<table border=\"1\" class=\"dataframe\">\n",
       "  <thead>\n",
       "    <tr style=\"text-align: right;\">\n",
       "      <th></th>\n",
       "      <th>Team</th>\n",
       "      <th>Number</th>\n",
       "      <th>Position</th>\n",
       "      <th>Age</th>\n",
       "      <th>Height</th>\n",
       "      <th>Weight</th>\n",
       "      <th>College</th>\n",
       "      <th>Salary</th>\n",
       "    </tr>\n",
       "    <tr>\n",
       "      <th>Name</th>\n",
       "      <th></th>\n",
       "      <th></th>\n",
       "      <th></th>\n",
       "      <th></th>\n",
       "      <th></th>\n",
       "      <th></th>\n",
       "      <th></th>\n",
       "      <th></th>\n",
       "    </tr>\n",
       "  </thead>\n",
       "  <tbody>\n",
       "    <tr>\n",
       "      <th>Avery Bradley</th>\n",
       "      <td>Boston Celtics</td>\n",
       "      <td>0</td>\n",
       "      <td>PG</td>\n",
       "      <td>25</td>\n",
       "      <td>2-Jun</td>\n",
       "      <td>180</td>\n",
       "      <td>Texas</td>\n",
       "      <td>7730337.0</td>\n",
       "    </tr>\n",
       "    <tr>\n",
       "      <th>Jae Crowder</th>\n",
       "      <td>Boston Celtics</td>\n",
       "      <td>99</td>\n",
       "      <td>SF</td>\n",
       "      <td>25</td>\n",
       "      <td>6-Jun</td>\n",
       "      <td>235</td>\n",
       "      <td>Marquette</td>\n",
       "      <td>6796117.0</td>\n",
       "    </tr>\n",
       "    <tr>\n",
       "      <th>John Holland</th>\n",
       "      <td>Boston Celtics</td>\n",
       "      <td>30</td>\n",
       "      <td>SG</td>\n",
       "      <td>27</td>\n",
       "      <td>5-Jun</td>\n",
       "      <td>205</td>\n",
       "      <td>Boston University</td>\n",
       "      <td>NaN</td>\n",
       "    </tr>\n",
       "    <tr>\n",
       "      <th>R.J. Hunter</th>\n",
       "      <td>Boston Celtics</td>\n",
       "      <td>28</td>\n",
       "      <td>SG</td>\n",
       "      <td>22</td>\n",
       "      <td>5-Jun</td>\n",
       "      <td>185</td>\n",
       "      <td>Georgia State</td>\n",
       "      <td>1148640.0</td>\n",
       "    </tr>\n",
       "    <tr>\n",
       "      <th>Jonas Jerebko</th>\n",
       "      <td>Boston Celtics</td>\n",
       "      <td>8</td>\n",
       "      <td>PF</td>\n",
       "      <td>29</td>\n",
       "      <td>10-Jun</td>\n",
       "      <td>231</td>\n",
       "      <td>NaN</td>\n",
       "      <td>5000000.0</td>\n",
       "    </tr>\n",
       "    <tr>\n",
       "      <th>...</th>\n",
       "      <td>...</td>\n",
       "      <td>...</td>\n",
       "      <td>...</td>\n",
       "      <td>...</td>\n",
       "      <td>...</td>\n",
       "      <td>...</td>\n",
       "      <td>...</td>\n",
       "      <td>...</td>\n",
       "    </tr>\n",
       "    <tr>\n",
       "      <th>Trey Lyles</th>\n",
       "      <td>Utah Jazz</td>\n",
       "      <td>41</td>\n",
       "      <td>PF</td>\n",
       "      <td>20</td>\n",
       "      <td>10-Jun</td>\n",
       "      <td>234</td>\n",
       "      <td>Kentucky</td>\n",
       "      <td>2239800.0</td>\n",
       "    </tr>\n",
       "    <tr>\n",
       "      <th>Shelvin Mack</th>\n",
       "      <td>Utah Jazz</td>\n",
       "      <td>8</td>\n",
       "      <td>PG</td>\n",
       "      <td>26</td>\n",
       "      <td>3-Jun</td>\n",
       "      <td>203</td>\n",
       "      <td>Butler</td>\n",
       "      <td>2433333.0</td>\n",
       "    </tr>\n",
       "    <tr>\n",
       "      <th>Raul Neto</th>\n",
       "      <td>Utah Jazz</td>\n",
       "      <td>25</td>\n",
       "      <td>PG</td>\n",
       "      <td>24</td>\n",
       "      <td>1-Jun</td>\n",
       "      <td>179</td>\n",
       "      <td>NaN</td>\n",
       "      <td>900000.0</td>\n",
       "    </tr>\n",
       "    <tr>\n",
       "      <th>Tibor Pleiss</th>\n",
       "      <td>Utah Jazz</td>\n",
       "      <td>21</td>\n",
       "      <td>C</td>\n",
       "      <td>26</td>\n",
       "      <td>3-Jul</td>\n",
       "      <td>256</td>\n",
       "      <td>NaN</td>\n",
       "      <td>2900000.0</td>\n",
       "    </tr>\n",
       "    <tr>\n",
       "      <th>Jeff Withey</th>\n",
       "      <td>Utah Jazz</td>\n",
       "      <td>24</td>\n",
       "      <td>C</td>\n",
       "      <td>26</td>\n",
       "      <td>Jul-00</td>\n",
       "      <td>231</td>\n",
       "      <td>Kansas</td>\n",
       "      <td>947276.0</td>\n",
       "    </tr>\n",
       "  </tbody>\n",
       "</table>\n",
       "<p>457 rows × 8 columns</p>\n",
       "</div>"
      ],
      "text/plain": [
       "                         Team  Number Position  Age  Height  Weight  \\\n",
       "Name                                                                  \n",
       "Avery Bradley  Boston Celtics       0       PG   25   2-Jun     180   \n",
       "Jae Crowder    Boston Celtics      99       SF   25   6-Jun     235   \n",
       "John Holland   Boston Celtics      30       SG   27   5-Jun     205   \n",
       "R.J. Hunter    Boston Celtics      28       SG   22   5-Jun     185   \n",
       "Jonas Jerebko  Boston Celtics       8       PF   29  10-Jun     231   \n",
       "...                       ...     ...      ...  ...     ...     ...   \n",
       "Trey Lyles          Utah Jazz      41       PF   20  10-Jun     234   \n",
       "Shelvin Mack        Utah Jazz       8       PG   26   3-Jun     203   \n",
       "Raul Neto           Utah Jazz      25       PG   24   1-Jun     179   \n",
       "Tibor Pleiss        Utah Jazz      21        C   26   3-Jul     256   \n",
       "Jeff Withey         Utah Jazz      24        C   26  Jul-00     231   \n",
       "\n",
       "                         College     Salary  \n",
       "Name                                         \n",
       "Avery Bradley              Texas  7730337.0  \n",
       "Jae Crowder            Marquette  6796117.0  \n",
       "John Holland   Boston University        NaN  \n",
       "R.J. Hunter        Georgia State  1148640.0  \n",
       "Jonas Jerebko                NaN  5000000.0  \n",
       "...                          ...        ...  \n",
       "Trey Lyles              Kentucky  2239800.0  \n",
       "Shelvin Mack              Butler  2433333.0  \n",
       "Raul Neto                    NaN   900000.0  \n",
       "Tibor Pleiss                 NaN  2900000.0  \n",
       "Jeff Withey               Kansas   947276.0  \n",
       "\n",
       "[457 rows x 8 columns]"
      ]
     },
     "execution_count": 6,
     "metadata": {},
     "output_type": "execute_result"
    }
   ],
   "source": [
    "data"
   ]
  },
  {
   "cell_type": "code",
   "execution_count": 7,
   "id": "ec39186a",
   "metadata": {},
   "outputs": [
    {
     "name": "stdout",
     "output_type": "stream",
     "text": [
      "                         Team  Number Position\n",
      "Name                                          \n",
      "Avery Bradley  Boston Celtics       0       PG\n",
      "R.J. Hunter    Boston Celtics      28       SG\n"
     ]
    }
   ],
   "source": [
    "# retrive the data from the perticular row and perticular column only:\n",
    "perticular = data.loc[[\"Avery Bradley\", \"R.J. Hunter\"], \n",
    "                     [\"Team\", \"Number\", \"Position\"]] # here we retrive the data from the two rows nad three columns\n",
    "print(perticular)"
   ]
  },
  {
   "cell_type": "code",
   "execution_count": 8,
   "id": "5ebcebc3",
   "metadata": {},
   "outputs": [
    {
     "name": "stdout",
     "output_type": "stream",
     "text": [
      "              Position\n",
      "Name                  \n",
      "Avery Bradley       PG\n",
      "Jae Crowder         SF\n",
      "John Holland        SG\n",
      "R.J. Hunter         SG\n",
      "Jonas Jerebko       PF\n",
      "...                ...\n",
      "Trey Lyles          PF\n",
      "Shelvin Mack        PG\n",
      "Raul Neto           PG\n",
      "Tibor Pleiss         C\n",
      "Jeff Withey          C\n",
      "\n",
      "[457 rows x 1 columns]\n"
     ]
    }
   ],
   "source": [
    "# all the rows and specific column:\n",
    "all_rows_specific_column = data.loc[:, [\"Position\"]] # all the rows and specific column\n",
    "print(all_rows_specific_column)"
   ]
  },
  {
   "cell_type": "markdown",
   "id": "1c3b336f",
   "metadata": {},
   "source": [
    "# data manupulation using iloc:"
   ]
  },
  {
   "cell_type": "code",
   "execution_count": 9,
   "id": "d0aee31b",
   "metadata": {},
   "outputs": [],
   "source": [
    "df = pd.read_csv(\"nba.csv\")"
   ]
  },
  {
   "cell_type": "code",
   "execution_count": 10,
   "id": "7248207a",
   "metadata": {},
   "outputs": [
    {
     "name": "stdout",
     "output_type": "stream",
     "text": [
      "Team        Boston Celtics\n",
      "Number                  28\n",
      "Position                SG\n",
      "Age                     22\n",
      "Height               5-Jun\n",
      "Weight                 185\n",
      "College      Georgia State\n",
      "Salary           1148640.0\n",
      "Name: R.J. Hunter, dtype: object\n"
     ]
    }
   ],
   "source": [
    "# retriving the row by iloc method:\n",
    "rows2 = data.iloc[3] # giving the data of the 4th row of the csv file\n",
    "print(rows2)"
   ]
  },
  {
   "cell_type": "code",
   "execution_count": 12,
   "id": "982c7fb6",
   "metadata": {},
   "outputs": [
    {
     "name": "stdout",
     "output_type": "stream",
     "text": [
      "                        Team  Number Position  Age  Height  Weight  \\\n",
      "Name                                                                 \n",
      "R.J. Hunter   Boston Celtics      28       SG   22   5-Jun     185   \n",
      "Amir Johnson  Boston Celtics      90       PF   29   9-Jun     240   \n",
      "Kelly Olynyk  Boston Celtics      41        C   25  Jul-00     238   \n",
      "\n",
      "                    College      Salary  \n",
      "Name                                     \n",
      "R.J. Hunter   Georgia State   1148640.0  \n",
      "Amir Johnson            NaN  12000000.0  \n",
      "Kelly Olynyk        Gonzaga   2165160.0  \n"
     ]
    }
   ],
   "source": [
    "# retriving the multiple rows by iloc method:\n",
    "rows3 = data.iloc[[3,5,7]] # giving the data of the 4, 6, 8 rows of the csv file\n",
    "print(rows3)"
   ]
  },
  {
   "cell_type": "code",
   "execution_count": 13,
   "id": "3e371c8e",
   "metadata": {},
   "outputs": [
    {
     "name": "stdout",
     "output_type": "stream",
     "text": [
      "              Number Position\n",
      "Name                         \n",
      "R.J. Hunter       28       SG\n",
      "Amir Johnson      90       PF\n"
     ]
    }
   ],
   "source": [
    "# retriving the rows by iloc method:\n",
    "rows4 = data.iloc[[3,5],[1,2]] # giving the data of the 3rd and 4th row and 1st and 2nd column\n",
    "print(rows4)"
   ]
  },
  {
   "cell_type": "code",
   "execution_count": null,
   "id": "01e02341",
   "metadata": {},
   "outputs": [],
   "source": []
  }
 ],
 "metadata": {
  "kernelspec": {
   "display_name": "Python 3 (ipykernel)",
   "language": "python",
   "name": "python3"
  },
  "language_info": {
   "codemirror_mode": {
    "name": "ipython",
    "version": 3
   },
   "file_extension": ".py",
   "mimetype": "text/x-python",
   "name": "python",
   "nbconvert_exporter": "python",
   "pygments_lexer": "ipython3",
   "version": "3.11.0"
  }
 },
 "nbformat": 4,
 "nbformat_minor": 5
}
